{
 "cells": [
  {
   "cell_type": "markdown",
   "id": "9d06f4c7",
   "metadata": {},
   "source": [
    "### Code inspired by problem in video bellow:"
   ]
  },
  {
   "cell_type": "code",
   "execution_count": 219,
   "id": "416f1c7a",
   "metadata": {
    "scrolled": true
   },
   "outputs": [
    {
     "data": {
      "text/html": [
       "<iframe width=\"560\" height=\"315\" src=\"https://www.youtube.com/embed/M2-_RbnTvwo?rel=0&amp;controls=0&amp;showinfo=0\" frameborder=\"0\" allowfullscreen></iframe>"
      ],
      "text/plain": [
       "<IPython.core.display.HTML object>"
      ]
     },
     "execution_count": 219,
     "metadata": {},
     "output_type": "execute_result"
    }
   ],
   "source": [
    "from IPython.display import HTML\n",
    "HTML('<iframe width=\"560\" height=\"315\" src=\"https://www.youtube.com/embed/M2-_RbnTvwo?rel=0&amp;controls=0&amp;showinfo=0\" frameborder=\"0\" allowfullscreen></iframe>')"
   ]
  },
  {
   "cell_type": "markdown",
   "id": "ef003fb9",
   "metadata": {},
   "source": [
    "### Just brute force:"
   ]
  },
  {
   "cell_type": "code",
   "execution_count": 200,
   "id": "704d57ea",
   "metadata": {
    "collapsed": true
   },
   "outputs": [],
   "source": [
    "import numpy\n",
    "from itertools import combinations\n",
    "import time\n",
    "from sympy import isprime"
   ]
  },
  {
   "cell_type": "code",
   "execution_count": 201,
   "id": "24574a0f",
   "metadata": {
    "collapsed": true
   },
   "outputs": [],
   "source": [
    "a = [x for x in range(1985,1996)]"
   ]
  },
  {
   "cell_type": "code",
   "execution_count": 203,
   "id": "ae576e4e",
   "metadata": {
    "collapsed": true
   },
   "outputs": [],
   "source": [
    "from itertools import permutations\n",
    "perm_list = list(permutations(a))"
   ]
  },
  {
   "cell_type": "code",
   "execution_count": 183,
   "id": "ec97861d",
   "metadata": {},
   "outputs": [
    {
     "data": {
      "text/plain": [
       "91.71983790397644"
      ]
     },
     "execution_count": 183,
     "metadata": {},
     "output_type": "execute_result"
    }
   ],
   "source": [
    "final_list = []\n",
    "for e in perm_list:\n",
    "    final_list.append(int(\"\".join(list( map(str, (e))))))"
   ]
  },
  {
   "cell_type": "code",
   "execution_count": 212,
   "id": "f1486450",
   "metadata": {},
   "outputs": [
    {
     "data": {
      "text/plain": [
       "39916800"
      ]
     },
     "execution_count": 212,
     "metadata": {},
     "output_type": "execute_result"
    }
   ],
   "source": [
    "no_prime = 0\n",
    "for e in final_list:\n",
    "    if isprime(e):\n",
    "        print(e)\n",
    "    else:\n",
    "        no_prime +=1\n",
    "no_prime"
   ]
  },
  {
   "cell_type": "code",
   "execution_count": null,
   "id": "07e49a92",
   "metadata": {
    "collapsed": true
   },
   "outputs": [],
   "source": []
  }
 ],
 "metadata": {
  "kernelspec": {
   "display_name": "Python 3",
   "language": "python",
   "name": "python3"
  },
  "language_info": {
   "codemirror_mode": {
    "name": "ipython",
    "version": 3
   },
   "file_extension": ".py",
   "mimetype": "text/x-python",
   "name": "python",
   "nbconvert_exporter": "python",
   "pygments_lexer": "ipython3",
   "version": "3.8.8"
  }
 },
 "nbformat": 4,
 "nbformat_minor": 5
}
